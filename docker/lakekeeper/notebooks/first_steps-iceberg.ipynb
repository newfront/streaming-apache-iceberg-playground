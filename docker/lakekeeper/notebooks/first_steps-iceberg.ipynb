{
 "cells": [
  {
   "cell_type": "code",
   "execution_count": 136,
   "metadata": {},
   "outputs": [],
   "source": [
    "import pyspark\n",
    "from pyspark.conf import SparkConf\n",
    "from pyspark.sql import SparkSession, DataFrame\n",
    "import pandas as pd\n",
    "\n",
    "# This CATALOG_URL works for the \"docker compose\" testing and development environment\n",
    "# Change 'lakekeeper' if you are not running on \"docker compose\" (f. ex. 'localhost' if Lakekeeper is running locally).\n",
    "CATALOG_URL = \"http://lakekeeper:8181/catalog\"\n",
    "WAREHOUSE = \"demo\"\n",
    "\n",
    "SPARK_VERSION = pyspark.__version__\n",
    "SPARK_MINOR_VERSION = '.'.join(SPARK_VERSION.split('.')[:2])\n",
    "ICEBERG_VERSION = \"1.10.0\""
   ]
  },
  {
   "cell_type": "markdown",
   "metadata": {},
   "source": [
    "# Connect with Spark"
   ]
  },
  {
   "cell_type": "code",
   "execution_count": 2,
   "metadata": {},
   "outputs": [],
   "source": [
    "config = {\n",
    "    f\"spark.sql.catalog.lakekeeper\": \"org.apache.iceberg.spark.SparkCatalog\",\n",
    "    f\"spark.sql.catalog.lakekeeper.type\": \"rest\",\n",
    "    f\"spark.sql.catalog.lakekeeper.uri\": CATALOG_URL,\n",
    "    f\"spark.sql.catalog.lakekeeper.warehouse\": WAREHOUSE,\n",
    "    f\"spark.sql.catalog.lakekeeper.io-impl\": \"org.apache.iceberg.aws.s3.S3FileIO\",\n",
    "    \"spark.sql.extensions\": \"org.apache.iceberg.spark.extensions.IcebergSparkSessionExtensions\",\n",
    "    \"spark.sql.defaultCatalog\": \"lakekeeper\",\n",
    "    \"spark.jars.packages\": f\"org.apache.iceberg:iceberg-spark-runtime-{SPARK_MINOR_VERSION}_2.13:{ICEBERG_VERSION},org.apache.iceberg:iceberg-aws-bundle:{ICEBERG_VERSION}\",\n",
    "}"
   ]
  },
  {
   "cell_type": "code",
   "execution_count": null,
   "metadata": {},
   "outputs": [],
   "source": [
    "# spark.sql.shuffle.partitions (need to be smaller for streaming)\n",
    "# looking at the output of the parquet dir"
   ]
  },
  {
   "cell_type": "code",
   "execution_count": 3,
   "metadata": {},
   "outputs": [
    {
     "data": {
      "text/plain": [
       "DataFrame[]"
      ]
     },
     "execution_count": 3,
     "metadata": {},
     "output_type": "execute_result"
    }
   ],
   "source": [
    "spark_config = SparkConf().setMaster('local').setAppName(\"Iceberg-REST\")\n",
    "for k, v in config.items():\n",
    "    spark_config = spark_config.set(k, v)\n",
    "\n",
    "spark = SparkSession.builder.config(conf=spark_config).getOrCreate()\n",
    "\n",
    "spark.sql(\"USE lakekeeper\")"
   ]
  },
  {
   "cell_type": "code",
   "execution_count": 11,
   "metadata": {},
   "outputs": [],
   "source": [
    "spark.conf.set(\"spark.sql.parquet.compression.codec\", \"zstd\")"
   ]
  },
  {
   "cell_type": "code",
   "execution_count": 12,
   "metadata": {},
   "outputs": [],
   "source": [
    "from pyspark.sql.functions import col, to_date, to_timestamp\n",
    "from pyspark.sql.types import StructType, StructField, StringType, IntegerType, LongType, FloatType\n",
    "schema = (StructType([\n",
    "    StructField(\"event_time\", StringType(), False),\n",
    "    StructField(\"event_type\", StringType(), False),\n",
    "    StructField(\"product_id\", IntegerType(), False),\n",
    "    StructField(\"category_id\", LongType(), False),\n",
    "    StructField(\"category_code\", StringType(), False),\n",
    "    StructField(\"brand\", StringType(), False),\n",
    "    StructField(\"price\", FloatType(), False),\n",
    "    StructField(\"user_id\", IntegerType(), False),\n",
    "    StructField(\"user_session\", StringType(), False),\n",
    "]))"
   ]
  },
  {
   "cell_type": "code",
   "execution_count": 36,
   "metadata": {},
   "outputs": [],
   "source": [
    "from pathlib import Path\n",
    "dataset_dir = Path('.').joinpath('../datasets').absolute()"
   ]
  },
  {
   "cell_type": "code",
   "execution_count": 39,
   "metadata": {},
   "outputs": [],
   "source": [
    "ecomm_raw_dir = dataset_dir.joinpath('ecomm_raw')"
   ]
  },
  {
   "cell_type": "code",
   "execution_count": 129,
   "metadata": {},
   "outputs": [],
   "source": [
    "october_data = (ecomm_raw_dir.joinpath(\"2019-Oct.csv\")).as_posix()\n",
    "november_data = (ecomm_raw_dir.joinpath(\"2019-Nov.csv\")).as_posix()"
   ]
  },
  {
   "cell_type": "markdown",
   "metadata": {},
   "source": [
    "## Create the E-commerce Data for ingestion to Iceberg\n",
    "> we'll be using the '2019-Oct.csv', '2019-Nov.csv' datasets, doing some minor tweaks and then using these to populate our base Iceberg tables\n",
    "> \n",
    "> Then we'll move on to doing Iceberg Streaming in Part 2"
   ]
  },
  {
   "cell_type": "code",
   "execution_count": 46,
   "metadata": {},
   "outputs": [],
   "source": [
    "ecomm_oct_df = (\n",
    "    spark.read.format(\"csv\")\n",
    "    .option(\"header\", True)\n",
    "    .schema(schema)\n",
    "    .load(october_data)\n",
    ")"
   ]
  },
  {
   "cell_type": "code",
   "execution_count": null,
   "metadata": {},
   "outputs": [],
   "source": [
    "ecomm_oct_df.show()"
   ]
  },
  {
   "cell_type": "code",
   "execution_count": 130,
   "metadata": {},
   "outputs": [
    {
     "data": {
      "text/plain": [
       "42448764"
      ]
     },
     "execution_count": 130,
     "metadata": {},
     "output_type": "execute_result"
    }
   ],
   "source": [
    "ecomm_oct_df.count()"
   ]
  },
  {
   "cell_type": "code",
   "execution_count": 131,
   "metadata": {},
   "outputs": [],
   "source": [
    "ecomm_nov_df = (\n",
    "    spark.read.format(\"csv\")\n",
    "    .option(\"header\", True)\n",
    "    .schema(schema)\n",
    "    .load(november_data)\n",
    ")"
   ]
  },
  {
   "cell_type": "code",
   "execution_count": 132,
   "metadata": {},
   "outputs": [
    {
     "name": "stdout",
     "output_type": "stream",
     "text": [
      "+--------------------+----------+----------+-------------------+--------------------+--------+------+---------+--------------------+\n",
      "|          event_time|event_type|product_id|        category_id|       category_code|   brand| price|  user_id|        user_session|\n",
      "+--------------------+----------+----------+-------------------+--------------------+--------+------+---------+--------------------+\n",
      "|2019-11-01 00:00:...|      view|   1003461|2053013555631882655|electronics.smart...|  xiaomi|489.07|520088904|4d3b30da-a5e4-49d...|\n",
      "|2019-11-01 00:00:...|      view|   5000088|2053013566100866035|appliances.sewing...|  janome|293.65|530496790|8e5f4f83-366c-4f7...|\n",
      "|2019-11-01 00:00:...|      view|  17302664|2053013553853497655|                NULL|   creed| 28.31|561587266|755422e7-9040-477...|\n",
      "|2019-11-01 00:00:...|      view|   3601530|2053013563810775923|appliances.kitche...|      lg|712.87|518085591|3bfb58cd-7892-48c...|\n",
      "|2019-11-01 00:00:...|      view|   1004775|2053013555631882655|electronics.smart...|  xiaomi|183.27|558856683|313628f1-68b8-460...|\n",
      "|2019-11-01 00:00:...|      view|   1306894|2053013558920217191|  computers.notebook|      hp|360.09|520772685|816a59f3-f5ae-4cc...|\n",
      "|2019-11-01 00:00:...|      view|   1306421|2053013558920217191|  computers.notebook|      hp|514.56|514028527|df8184cc-3694-454...|\n",
      "|2019-11-01 00:00:...|      view|  15900065|2053013558190408249|                NULL| rondell| 30.86|518574284|5e6ef132-4d7c-473...|\n",
      "|2019-11-01 00:00:...|      view|  12708937|2053013553559896355|                NULL|michelin| 72.72|532364121|0a899268-31eb-46d...|\n",
      "|2019-11-01 00:00:...|      view|   1004258|2053013555631882655|electronics.smart...|   apple|732.07|532647354|d2d3d2c6-631d-489...|\n",
      "|2019-11-01 00:00:...|      view|  17200570|2053013559792632471|furniture.living_...|    NULL|437.33|518780843|aa806835-b14c-45a...|\n",
      "|2019-11-01 00:00:...|      view|   2701517|2053013563911439225|appliances.kitche...|    NULL|155.11|518427361|c89b0d96-247f-404...|\n",
      "|2019-11-01 00:00:...|      view|  16700260|2053013559901684381|furniture.kitchen...|    NULL| 31.64|566255262|173d7b72-1db7-463...|\n",
      "|2019-11-01 00:00:...|      view|  34600011|2060981320581906480|                NULL|    NULL| 20.54|512416379|4dfe2c67-e537-4dc...|\n",
      "|2019-11-01 00:00:...|      view|   4600658|2053013563944993659|appliances.kitche...| samsung|411.83|526595547|aab33a9a-29c3-4d5...|\n",
      "|2019-11-01 00:00:...|      view|  24900193|2053013562183385881|                NULL|    NULL|  1.09|512651494|f603c815-f51a-46f...|\n",
      "|2019-11-01 00:00:...|      view|  27400066|2053013563391345499|                NULL|    NULL|  8.55|551061950|3f6112f1-5695-4e8...|\n",
      "|2019-11-01 00:00:...|      view|   5100503|2053013553375346967|                NULL|  xiaomi| 22.68|520037415|f54fa96a-f3f2-43a...|\n",
      "|2019-11-01 00:00:...|      view|   1004566|2053013555631882655|electronics.smart...|  huawei|164.84|566265908|52c2c76c-b79e-479...|\n",
      "|2019-11-01 00:00:...|      view|   1307115|2053013558920217191|  computers.notebook|      hp|411.59|514028527|df8184cc-3694-454...|\n",
      "+--------------------+----------+----------+-------------------+--------------------+--------+------+---------+--------------------+\n",
      "only showing top 20 rows\n"
     ]
    }
   ],
   "source": [
    "ecomm_nov_df.show()"
   ]
  },
  {
   "cell_type": "code",
   "execution_count": 133,
   "metadata": {},
   "outputs": [
    {
     "data": {
      "text/plain": [
       "67501979"
      ]
     },
     "execution_count": 133,
     "metadata": {},
     "output_type": "execute_result"
    }
   ],
   "source": [
    "ecomm_nov_df.count()"
   ]
  },
  {
   "cell_type": "markdown",
   "metadata": {},
   "source": [
    "### Create the Initial Parquet Tables \n",
    "> These will live outside of MinIO and the Iceberg Catalog\n",
    "\n",
    "* We'll create a simple helper function to _aid_ in our journey. We'll call it `write_parquet`.\n",
    "* Using the new _function_, we'll then need to convert the **csv**->**parquet**, so run the **two** cells under \"convert the data\". They will produce raw parquet records under the path `datasets/ecomm_raw/parquet/ecomm`.\n",
    "* We will then be able to run a series of 'daily' transactions to **write** all of the records into our foundational **iceberg** table."
   ]
  },
  {
   "cell_type": "code",
   "execution_count": 87,
   "metadata": {},
   "outputs": [],
   "source": [
    "def write_parquet(df: DataFrame, destination: Path, sink_dir: str) -> DataFrame:\n",
    "    save_path = destination.joinpath('parquet', sink_dir)\n",
    "    # modifications to the dataframe\n",
    "    transformed = (\n",
    "        df\n",
    "            .withColumn(\"event_time\", to_timestamp(col(\"event_time\"), \"yyyy-MM-dd HH:mm:ss z\"))\n",
    "            .withColumn(\"event_date\", to_date(col(\"event_time\")))\n",
    "    )\n",
    "    \n",
    "    return (\n",
    "        transformed\n",
    "            .write\n",
    "            .format(\"parquet\")\n",
    "            .partitionBy(\"event_date\")\n",
    "            .mode(\"append\")\n",
    "            .save(save_path.as_posix())\n",
    "    )\n",
    "    "
   ]
  },
  {
   "cell_type": "markdown",
   "metadata": {},
   "source": [
    "### Convert the Data\n",
    "We're on a mission to convert CSV to Parquet. Let's do that next.\n",
    "> Note: This process may take a while if you're using the full dataset (~19GB)\n",
    "> Note: The function \"expects\" that we'll be _appending__ to the **ecomm** directory.\n",
    "> * If you want to modify the behavior of the function, give it a new argument called mode, and default that to \"errorIfExists\" of \"ignore\" - so you don't have to worry about deduplication or going nuculear and wiping out the entire ecomm directory!\n"
   ]
  },
  {
   "cell_type": "code",
   "execution_count": 88,
   "metadata": {},
   "outputs": [],
   "source": [
    "# note: ecomm_raw_dir is the Path instance to the datasets/ecomm_raw directory\n",
    "# further note: this could take a few minutes locally. Just turn up your favorite jams and let it ride\n",
    "# lastly, the safe guard is on to check if the parquet directory already exists. This is to save you from accidentally \n",
    "# running the import more than once. This is to save you the trouble this can cause.\n",
    "\n",
    "if not ecomm_raw_dir.joinpath('parquet', 'ecomm', 'event_date=2019-10-01').is_dir():\n",
    "  write_parquet(ecomm_oct_df, ecomm_raw_dir, 'ecomm')\n",
    "else:\n",
    "  print(\"oh good. Saved you from having to import again\")"
   ]
  },
  {
   "cell_type": "code",
   "execution_count": 134,
   "metadata": {},
   "outputs": [],
   "source": [
    "if not ecomm_raw_dir.joinpath('parquet', 'ecomm', 'event_date=2019-11-01').is_dir():\n",
    "  write_parquet(ecomm_nov_df, ecomm_raw_dir, 'ecomm')\n",
    "else:\n",
    "  print(\"same goes for the november set. It exists, so we'll skip for now\")"
   ]
  },
  {
   "cell_type": "markdown",
   "metadata": {},
   "source": [
    "## Read and Write Tables"
   ]
  },
  {
   "cell_type": "code",
   "execution_count": 113,
   "metadata": {},
   "outputs": [],
   "source": [
    "# let's identify a helper function to check to see if a \"table\" exists\n",
    "# this can be done a few different ways, but this one uses the 'underlying' spark.catalog\n",
    "# and I like that better :)\n",
    "\n",
    "def table_exists(table_name: str):\n",
    "    return any(table.name == table_name for table in spark.catalog.listTables())"
   ]
  },
  {
   "cell_type": "code",
   "execution_count": 89,
   "metadata": {},
   "outputs": [
    {
     "name": "stdout",
     "output_type": "stream",
     "text": [
      "+----------+\n",
      "| namespace|\n",
      "+----------+\n",
      "|icystreams|\n",
      "+----------+\n",
      "\n"
     ]
    }
   ],
   "source": [
    "catalog_namespace = 'icystreams'\n",
    "spark.sql(f\"CREATE NAMESPACE IF NOT EXISTS {catalog_namespace}\")\n",
    "spark.sql(\"SHOW NAMESPACES\").show()"
   ]
  },
  {
   "cell_type": "code",
   "execution_count": 10,
   "metadata": {},
   "outputs": [
    {
     "data": {
      "text/plain": [
       "[Database(name='icystreams', catalog='lakekeeper', description=None, locationUri='s3://examples/initial-warehouse/0199823a-b849-71e1-be35-c3e2095e828d')]"
      ]
     },
     "execution_count": 10,
     "metadata": {},
     "output_type": "execute_result"
    }
   ],
   "source": [
    "spark.catalog.listDatabases()"
   ]
  },
  {
   "cell_type": "code",
   "execution_count": 99,
   "metadata": {},
   "outputs": [
    {
     "data": {
      "text/plain": [
       "'lakekeeper'"
      ]
     },
     "execution_count": 99,
     "metadata": {},
     "output_type": "execute_result"
    }
   ],
   "source": [
    "spark.catalog.currentCatalog()"
   ]
  },
  {
   "cell_type": "code",
   "execution_count": 101,
   "metadata": {},
   "outputs": [
    {
     "data": {
      "text/plain": [
       "[Database(name='icystreams', catalog='lakekeeper', description=None, locationUri='s3://examples/initial-warehouse/0199823a-b849-71e1-be35-c3e2095e828d')]"
      ]
     },
     "execution_count": 101,
     "metadata": {},
     "output_type": "execute_result"
    }
   ],
   "source": [
    "spark.catalog.listDatabases()"
   ]
  },
  {
   "cell_type": "code",
   "execution_count": 102,
   "metadata": {},
   "outputs": [],
   "source": [
    "spark.catalog.setCurrentDatabase('icystreams')"
   ]
  },
  {
   "cell_type": "code",
   "execution_count": 127,
   "metadata": {},
   "outputs": [],
   "source": [
    "# read the parquet, and write into Iceberg. We'll tackle this one day at a time, as it can help us create a lot of metadata. \n",
    "\n",
    "parquet_dir = ecomm_raw_dir.joinpath('parquet', 'ecomm')\n",
    "iceberg_table_name = 'ecomm'\n",
    "for_iceberg = (\n",
    "    spark\n",
    "        .read\n",
    "        .format('parquet')\n",
    "        .load(parquet_dir.as_posix())\n",
    "        .where(col(\"event_date\").isin(\"2019-11-01\"))\n",
    ")\n",
    "\n",
    "# for_iceberg.show(5)"
   ]
  },
  {
   "cell_type": "code",
   "execution_count": 128,
   "metadata": {},
   "outputs": [],
   "source": [
    "# we need to check to see if the table exists\n",
    "to_iceberg = (\n",
    "    for_iceberg\n",
    "        .writeTo(f\"{catalog_namespace}.ecomm\")\n",
    "        .partitionedBy(\"event_date\")\n",
    ")\n",
    "\n",
    "if table_exists(iceberg_table_name):\n",
    "    # if it does, let's append new records\n",
    "    to_iceberg.append()\n",
    "else:\n",
    "    # otherwise, let's create a new table\n",
    "    to_iceberg.create()"
   ]
  },
  {
   "cell_type": "code",
   "execution_count": 160,
   "metadata": {},
   "outputs": [],
   "source": [
    "parquet_dir = ecomm_raw_dir.joinpath('parquet', 'ecomm')\n",
    "iceberg_table_name = 'ecomm'\n",
    "for_iceberg = (\n",
    "    spark\n",
    "        .read\n",
    "        .format('parquet')\n",
    "        .load(parquet_dir.as_posix())\n",
    "        .where(col(\"event_date\").isin(\n",
    "            \"2019-11-27\", \"2019-11-28\", \"2019-11-29\", \"2019-11-30\"\n",
    "        ))\n",
    ")\n",
    "\n",
    "to_iceberg = (\n",
    "    for_iceberg\n",
    "        .writeTo(f\"{catalog_namespace}.ecomm\")\n",
    "        .partitionedBy(\"event_date\")\n",
    ")\n",
    "\n",
    "if table_exists(iceberg_table_name):\n",
    "    # if it does, let's append new records\n",
    "    to_iceberg.append()\n",
    "else:\n",
    "    # otherwise, let's create a new table\n",
    "    to_iceberg.create()"
   ]
  },
  {
   "cell_type": "code",
   "execution_count": 142,
   "metadata": {},
   "outputs": [
    {
     "data": {
      "text/html": [
       "<div>\n",
       "<style scoped>\n",
       "    .dataframe tbody tr th:only-of-type {\n",
       "        vertical-align: middle;\n",
       "    }\n",
       "\n",
       "    .dataframe tbody tr th {\n",
       "        vertical-align: top;\n",
       "    }\n",
       "\n",
       "    .dataframe thead th {\n",
       "        text-align: right;\n",
       "    }\n",
       "</style>\n",
       "<table border=\"1\" class=\"dataframe\">\n",
       "  <thead>\n",
       "    <tr style=\"text-align: right;\">\n",
       "      <th></th>\n",
       "      <th>event_time</th>\n",
       "      <th>event_type</th>\n",
       "      <th>product_id</th>\n",
       "      <th>category_id</th>\n",
       "      <th>category_code</th>\n",
       "      <th>brand</th>\n",
       "      <th>price</th>\n",
       "      <th>user_id</th>\n",
       "      <th>user_session</th>\n",
       "      <th>event_date</th>\n",
       "    </tr>\n",
       "  </thead>\n",
       "  <tbody>\n",
       "    <tr>\n",
       "      <th>0</th>\n",
       "      <td>2019-11-03 01:28:51</td>\n",
       "      <td>view</td>\n",
       "      <td>1801690</td>\n",
       "      <td>2053013554415534427</td>\n",
       "      <td>electronics.video.tv</td>\n",
       "      <td>samsung</td>\n",
       "      <td>369.450012</td>\n",
       "      <td>536833043</td>\n",
       "      <td>d9fc4bb1-c017-4d9d-8200-e1ee200e0866</td>\n",
       "      <td>2019-11-03</td>\n",
       "    </tr>\n",
       "    <tr>\n",
       "      <th>1</th>\n",
       "      <td>2019-11-03 01:28:51</td>\n",
       "      <td>view</td>\n",
       "      <td>1307004</td>\n",
       "      <td>2053013558920217191</td>\n",
       "      <td>computers.notebook</td>\n",
       "      <td>lenovo</td>\n",
       "      <td>290.600006</td>\n",
       "      <td>518681862</td>\n",
       "      <td>333c3974-6628-452c-b371-f6a05ae1e6bd</td>\n",
       "      <td>2019-11-03</td>\n",
       "    </tr>\n",
       "    <tr>\n",
       "      <th>2</th>\n",
       "      <td>2019-11-03 01:28:51</td>\n",
       "      <td>view</td>\n",
       "      <td>1005263</td>\n",
       "      <td>2053013555631882655</td>\n",
       "      <td>electronics.smartphone</td>\n",
       "      <td>oppo</td>\n",
       "      <td>694.969971</td>\n",
       "      <td>516211022</td>\n",
       "      <td>6d6db1e3-1707-4854-bae6-de5781776a23</td>\n",
       "      <td>2019-11-03</td>\n",
       "    </tr>\n",
       "    <tr>\n",
       "      <th>3</th>\n",
       "      <td>2019-11-03 01:28:51</td>\n",
       "      <td>view</td>\n",
       "      <td>2501782</td>\n",
       "      <td>2053013564003713919</td>\n",
       "      <td>appliances.kitchen.oven</td>\n",
       "      <td>oursson</td>\n",
       "      <td>113.489998</td>\n",
       "      <td>540024244</td>\n",
       "      <td>62e5b638-5bcb-4e08-a3e3-04101a7cf491</td>\n",
       "      <td>2019-11-03</td>\n",
       "    </tr>\n",
       "    <tr>\n",
       "      <th>4</th>\n",
       "      <td>2019-11-03 01:28:51</td>\n",
       "      <td>view</td>\n",
       "      <td>12702916</td>\n",
       "      <td>2053013553559896355</td>\n",
       "      <td>None</td>\n",
       "      <td>cordiant</td>\n",
       "      <td>36.810001</td>\n",
       "      <td>551287382</td>\n",
       "      <td>46e5c6a0-29b7-4e04-9667-99d5249f0f61</td>\n",
       "      <td>2019-11-03</td>\n",
       "    </tr>\n",
       "    <tr>\n",
       "      <th>5</th>\n",
       "      <td>2019-11-03 01:28:51</td>\n",
       "      <td>view</td>\n",
       "      <td>12301110</td>\n",
       "      <td>2053013556311359947</td>\n",
       "      <td>construction.tools.drill</td>\n",
       "      <td>dewalt</td>\n",
       "      <td>356.750000</td>\n",
       "      <td>565245179</td>\n",
       "      <td>99c8bc6e-9806-4645-bf38-fec449c13f1a</td>\n",
       "      <td>2019-11-03</td>\n",
       "    </tr>\n",
       "    <tr>\n",
       "      <th>6</th>\n",
       "      <td>2019-11-03 01:28:51</td>\n",
       "      <td>view</td>\n",
       "      <td>26300189</td>\n",
       "      <td>2053013563584283495</td>\n",
       "      <td>None</td>\n",
       "      <td>lucente</td>\n",
       "      <td>351.100006</td>\n",
       "      <td>566845330</td>\n",
       "      <td>4fe71c61-9853-41fa-b28e-1c96cb08a219</td>\n",
       "      <td>2019-11-03</td>\n",
       "    </tr>\n",
       "    <tr>\n",
       "      <th>7</th>\n",
       "      <td>2019-11-03 01:28:51</td>\n",
       "      <td>view</td>\n",
       "      <td>2600304</td>\n",
       "      <td>2053013563970159485</td>\n",
       "      <td>None</td>\n",
       "      <td>hansa</td>\n",
       "      <td>290.859985</td>\n",
       "      <td>523357956</td>\n",
       "      <td>c155b429-6297-4865-af17-a8122d51ca07</td>\n",
       "      <td>2019-11-03</td>\n",
       "    </tr>\n",
       "    <tr>\n",
       "      <th>8</th>\n",
       "      <td>2019-11-03 01:28:51</td>\n",
       "      <td>view</td>\n",
       "      <td>2800396</td>\n",
       "      <td>2053013563835941749</td>\n",
       "      <td>appliances.kitchen.refrigerators</td>\n",
       "      <td>None</td>\n",
       "      <td>183.889999</td>\n",
       "      <td>566572592</td>\n",
       "      <td>48d0d1cb-2dfc-471e-bbd0-7727f2e3e31a</td>\n",
       "      <td>2019-11-03</td>\n",
       "    </tr>\n",
       "    <tr>\n",
       "      <th>9</th>\n",
       "      <td>2019-11-03 01:28:52</td>\n",
       "      <td>view</td>\n",
       "      <td>30200002</td>\n",
       "      <td>2053013554449088861</td>\n",
       "      <td>None</td>\n",
       "      <td>None</td>\n",
       "      <td>167.289993</td>\n",
       "      <td>566959749</td>\n",
       "      <td>77d83e3b-9f15-4d41-aaad-4e62f55a8297</td>\n",
       "      <td>2019-11-03</td>\n",
       "    </tr>\n",
       "    <tr>\n",
       "      <th>10</th>\n",
       "      <td>2019-11-03 01:28:52</td>\n",
       "      <td>view</td>\n",
       "      <td>1005160</td>\n",
       "      <td>2053013555631882655</td>\n",
       "      <td>electronics.smartphone</td>\n",
       "      <td>xiaomi</td>\n",
       "      <td>210.690002</td>\n",
       "      <td>538620361</td>\n",
       "      <td>52dc18cd-9a4c-4167-aa8d-a8f5b619200c</td>\n",
       "      <td>2019-11-03</td>\n",
       "    </tr>\n",
       "    <tr>\n",
       "      <th>11</th>\n",
       "      <td>2019-11-03 01:28:52</td>\n",
       "      <td>view</td>\n",
       "      <td>1004871</td>\n",
       "      <td>2053013555631882655</td>\n",
       "      <td>electronics.smartphone</td>\n",
       "      <td>samsung</td>\n",
       "      <td>272.079987</td>\n",
       "      <td>566094899</td>\n",
       "      <td>bd65c56e-0c52-4bce-8a64-17ccd12316e9</td>\n",
       "      <td>2019-11-03</td>\n",
       "    </tr>\n",
       "    <tr>\n",
       "      <th>12</th>\n",
       "      <td>2019-11-03 01:28:53</td>\n",
       "      <td>view</td>\n",
       "      <td>32400546</td>\n",
       "      <td>2053013566562238479</td>\n",
       "      <td>None</td>\n",
       "      <td>bravo</td>\n",
       "      <td>19.559999</td>\n",
       "      <td>533358430</td>\n",
       "      <td>836ed483-572a-4959-899c-c3d55d12a3c2</td>\n",
       "      <td>2019-11-03</td>\n",
       "    </tr>\n",
       "    <tr>\n",
       "      <th>13</th>\n",
       "      <td>2019-11-03 01:28:53</td>\n",
       "      <td>view</td>\n",
       "      <td>1004249</td>\n",
       "      <td>2053013555631882655</td>\n",
       "      <td>electronics.smartphone</td>\n",
       "      <td>apple</td>\n",
       "      <td>724.340027</td>\n",
       "      <td>566959636</td>\n",
       "      <td>de538579-3ebe-40f8-b019-2d10a9a58f6a</td>\n",
       "      <td>2019-11-03</td>\n",
       "    </tr>\n",
       "    <tr>\n",
       "      <th>14</th>\n",
       "      <td>2019-11-03 01:28:53</td>\n",
       "      <td>purchase</td>\n",
       "      <td>22700129</td>\n",
       "      <td>2053013556168753601</td>\n",
       "      <td>None</td>\n",
       "      <td>stels</td>\n",
       "      <td>75.940002</td>\n",
       "      <td>523287818</td>\n",
       "      <td>9e213a37-f343-4527-8c51-4145c2a8a5f7</td>\n",
       "      <td>2019-11-03</td>\n",
       "    </tr>\n",
       "  </tbody>\n",
       "</table>\n",
       "</div>"
      ],
      "text/plain": [
       "            event_time event_type  product_id          category_id  \\\n",
       "0  2019-11-03 01:28:51       view     1801690  2053013554415534427   \n",
       "1  2019-11-03 01:28:51       view     1307004  2053013558920217191   \n",
       "2  2019-11-03 01:28:51       view     1005263  2053013555631882655   \n",
       "3  2019-11-03 01:28:51       view     2501782  2053013564003713919   \n",
       "4  2019-11-03 01:28:51       view    12702916  2053013553559896355   \n",
       "5  2019-11-03 01:28:51       view    12301110  2053013556311359947   \n",
       "6  2019-11-03 01:28:51       view    26300189  2053013563584283495   \n",
       "7  2019-11-03 01:28:51       view     2600304  2053013563970159485   \n",
       "8  2019-11-03 01:28:51       view     2800396  2053013563835941749   \n",
       "9  2019-11-03 01:28:52       view    30200002  2053013554449088861   \n",
       "10 2019-11-03 01:28:52       view     1005160  2053013555631882655   \n",
       "11 2019-11-03 01:28:52       view     1004871  2053013555631882655   \n",
       "12 2019-11-03 01:28:53       view    32400546  2053013566562238479   \n",
       "13 2019-11-03 01:28:53       view     1004249  2053013555631882655   \n",
       "14 2019-11-03 01:28:53   purchase    22700129  2053013556168753601   \n",
       "\n",
       "                       category_code     brand       price    user_id  \\\n",
       "0               electronics.video.tv   samsung  369.450012  536833043   \n",
       "1                 computers.notebook    lenovo  290.600006  518681862   \n",
       "2             electronics.smartphone      oppo  694.969971  516211022   \n",
       "3            appliances.kitchen.oven   oursson  113.489998  540024244   \n",
       "4                               None  cordiant   36.810001  551287382   \n",
       "5           construction.tools.drill    dewalt  356.750000  565245179   \n",
       "6                               None   lucente  351.100006  566845330   \n",
       "7                               None     hansa  290.859985  523357956   \n",
       "8   appliances.kitchen.refrigerators      None  183.889999  566572592   \n",
       "9                               None      None  167.289993  566959749   \n",
       "10            electronics.smartphone    xiaomi  210.690002  538620361   \n",
       "11            electronics.smartphone   samsung  272.079987  566094899   \n",
       "12                              None     bravo   19.559999  533358430   \n",
       "13            electronics.smartphone     apple  724.340027  566959636   \n",
       "14                              None     stels   75.940002  523287818   \n",
       "\n",
       "                            user_session  event_date  \n",
       "0   d9fc4bb1-c017-4d9d-8200-e1ee200e0866  2019-11-03  \n",
       "1   333c3974-6628-452c-b371-f6a05ae1e6bd  2019-11-03  \n",
       "2   6d6db1e3-1707-4854-bae6-de5781776a23  2019-11-03  \n",
       "3   62e5b638-5bcb-4e08-a3e3-04101a7cf491  2019-11-03  \n",
       "4   46e5c6a0-29b7-4e04-9667-99d5249f0f61  2019-11-03  \n",
       "5   99c8bc6e-9806-4645-bf38-fec449c13f1a  2019-11-03  \n",
       "6   4fe71c61-9853-41fa-b28e-1c96cb08a219  2019-11-03  \n",
       "7   c155b429-6297-4865-af17-a8122d51ca07  2019-11-03  \n",
       "8   48d0d1cb-2dfc-471e-bbd0-7727f2e3e31a  2019-11-03  \n",
       "9   77d83e3b-9f15-4d41-aaad-4e62f55a8297  2019-11-03  \n",
       "10  52dc18cd-9a4c-4167-aa8d-a8f5b619200c  2019-11-03  \n",
       "11  bd65c56e-0c52-4bce-8a64-17ccd12316e9  2019-11-03  \n",
       "12  836ed483-572a-4959-899c-c3d55d12a3c2  2019-11-03  \n",
       "13  de538579-3ebe-40f8-b019-2d10a9a58f6a  2019-11-03  \n",
       "14  9e213a37-f343-4527-8c51-4145c2a8a5f7  2019-11-03  "
      ]
     },
     "execution_count": 142,
     "metadata": {},
     "output_type": "execute_result"
    }
   ],
   "source": [
    "spark.sql(f\"\"\"\n",
    "select * from {catalog_namespace}.{iceberg_table_name} \n",
    "where event_date BETWEEN DATE(\"2019-11-01\") AND DATE(\"2019-11-30\")\n",
    "ORDER BY event_date DESC\n",
    "LIMIT 15\n",
    "\"\"\").toPandas()"
   ]
  },
  {
   "cell_type": "code",
   "execution_count": 161,
   "metadata": {},
   "outputs": [
    {
     "name": "stdout",
     "output_type": "stream",
     "text": [
      "+---------+\n",
      "|    total|\n",
      "+---------+\n",
      "|109950743|\n",
      "+---------+\n",
      "\n"
     ]
    }
   ],
   "source": [
    "spark.sql(f\"select count(*) as total from {catalog_namespace}.{iceberg_table_name}\").show()"
   ]
  },
  {
   "cell_type": "code",
   "execution_count": 8,
   "metadata": {},
   "outputs": [
    {
     "data": {
      "text/plain": [
       "DataFrame[]"
      ]
     },
     "execution_count": 8,
     "metadata": {},
     "output_type": "execute_result"
    }
   ],
   "source": [
    "#spark.sql(f\"DROP NAMESPACE icystreams\")\n",
    "#spark.sql(\"DROP TABLE my_namespace.my_table\")"
   ]
  },
  {
   "cell_type": "code",
   "execution_count": null,
   "metadata": {},
   "outputs": [],
   "source": []
  }
 ],
 "metadata": {
  "kernelspec": {
   "display_name": "Python 3 (ipykernel)",
   "language": "python",
   "name": "python3"
  },
  "language_info": {
   "codemirror_mode": {
    "name": "ipython",
    "version": 3
   },
   "file_extension": ".py",
   "mimetype": "text/x-python",
   "name": "python",
   "nbconvert_exporter": "python",
   "pygments_lexer": "ipython3",
   "version": "3.13.7"
  }
 },
 "nbformat": 4,
 "nbformat_minor": 4
}
